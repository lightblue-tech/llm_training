{
 "cells": [
  {
   "cell_type": "code",
   "execution_count": null,
   "metadata": {},
   "outputs": [],
   "source": [
    "import os\n",
    "\n",
    "os.environ[\"HF_HOME\"] = \"/workspace/hf_home\"\n",
    "\n",
    "from datasets import load_dataset\n",
    "datasets = load_dataset(\"lightblue/multi_context_closed_qa\", split=\"train\")\n",
    "\n",
    "datasets = datasets.select_columns([\"conversations\"])\n",
    "\n",
    "training_data_path = \"/workspace/multi_context_closed_qa.json\"\n",
    "datasets.to_json(training_data_path)"
   ]
  }
 ],
 "metadata": {
  "language_info": {
   "name": "python"
  }
 },
 "nbformat": 4,
 "nbformat_minor": 2
}
