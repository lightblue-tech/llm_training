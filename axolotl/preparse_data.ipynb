{
 "cells": [
  {
   "cell_type": "code",
   "execution_count": 1,
   "metadata": {},
   "outputs": [
    {
     "name": "stderr",
     "output_type": "stream",
     "text": [
      "/root/miniconda3/envs/py3.10/lib/python3.10/site-packages/tqdm/auto.py:21: TqdmWarning: IProgress not found. Please update jupyter and ipywidgets. See https://ipywidgets.readthedocs.io/en/stable/user_install.html\n",
      "  from .autonotebook import tqdm as notebook_tqdm\n",
      "Downloading readme: 100%|██████████| 604/604 [00:00<00:00, 5.50MB/s]\n",
      "Downloading data: 100%|██████████| 245M/245M [00:10<00:00, 23.5MB/s] \n",
      "Downloading data: 100%|██████████| 150M/150M [00:05<00:00, 27.9MB/s] \n",
      "Generating train split: 100%|██████████| 6636/6636 [00:00<00:00, 9026.93 examples/s] \n",
      "Creating json from Arrow format: 100%|██████████| 7/7 [00:02<00:00,  3.44ba/s]\n"
     ]
    },
    {
     "data": {
      "text/plain": [
       "431783729"
      ]
     },
     "execution_count": 1,
     "metadata": {},
     "output_type": "execute_result"
    }
   ],
   "source": [
    "import os\n",
    "\n",
    "os.environ[\"HF_HOME\"] = \"/workspace/hf_home\"\n",
    "\n",
    "from datasets import load_dataset\n",
    "datasets = load_dataset(\"lightblue/multi_context_closed_qa\", split=\"train\")\n",
    "\n",
    "datasets = datasets.select_columns([\"conversations\"])\n",
    "\n",
    "training_data_path = \"/workspace/llm_training/axolotl/multi_context_closed_qa.json\"\n",
    "datasets.to_json(training_data_path)"
   ]
  },
  {
   "cell_type": "code",
   "execution_count": 1,
   "metadata": {},
   "outputs": [],
   "source": [
    "import os\n",
    "\n",
    "os.environ[\"HF_HUB_ENABLE_HF_TRANSFER\"] = \"1\"\n",
    "os.environ[\"HF_HOME\"] = \"/workspace/hf_home\""
   ]
  },
  {
   "cell_type": "code",
   "execution_count": 2,
   "metadata": {},
   "outputs": [
    {
     "name": "stderr",
     "output_type": "stream",
     "text": [
      "/root/miniconda3/envs/py3.10/lib/python3.10/site-packages/tqdm/auto.py:21: TqdmWarning: IProgress not found. Please update jupyter and ipywidgets. See https://ipywidgets.readthedocs.io/en/stable/user_install.html\n",
      "  from .autonotebook import tqdm as notebook_tqdm\n",
      "You set `add_prefix_space`. The tokenizer needs to be converted from the slow tokenizers\n",
      "Loading checkpoint shards: 100%|██████████| 6/6 [00:02<00:00,  2.03it/s]\n"
     ]
    }
   ],
   "source": [
    "from transformers import AutoTokenizer, AutoModelForCausalLM\n",
    "import torch\n",
    "\n",
    "tokenizer = AutoTokenizer.from_pretrained(\"lightblue/mistralv0.2_finetuning_20240226_4\")\n",
    "model = AutoModelForCausalLM.from_pretrained(\"lightblue/mistralv0.2_finetuning_20240226_4\", torch_dtype=torch.bfloat16, device_map=\"auto\")\n"
   ]
  },
  {
   "cell_type": "code",
   "execution_count": 4,
   "metadata": {},
   "outputs": [
    {
     "name": "stderr",
     "output_type": "stream",
     "text": [
      "tokenizer.model: 100%|██████████| 493k/493k [00:00<00:00, 1.23MB/s]\n",
      "100%|██████████| 1/1 [00:00<00:00,  1.56it/s]\n",
      "100%|██████████| 3/3 [00:25<00:00,  8.57s/it]\n"
     ]
    },
    {
     "data": {
      "text/plain": [
       "CommitInfo(commit_url='https://huggingface.co/lightblue/mistralv0.2_finetuning_20240226_4/commit/2f7d39e9013eead7e19928f31d0f21dc616fa0a3', commit_message='Upload MistralForCausalLM', commit_description='', oid='2f7d39e9013eead7e19928f31d0f21dc616fa0a3', pr_url=None, pr_revision=None, pr_num=None)"
      ]
     },
     "execution_count": 4,
     "metadata": {},
     "output_type": "execute_result"
    }
   ],
   "source": [
    "tokenizer.push_to_hub(\"lightblue/mistralv0.2_finetuning_20240226_4\", private=True)\n",
    "model.push_to_hub(\"lightblue/mistralv0.2_finetuning_20240226_4\", private=True)"
   ]
  },
  {
   "cell_type": "code",
   "execution_count": null,
   "metadata": {},
   "outputs": [],
   "source": []
  },
  {
   "cell_type": "code",
   "execution_count": null,
   "metadata": {},
   "outputs": [],
   "source": []
  }
 ],
 "metadata": {
  "kernelspec": {
   "display_name": "py3.10",
   "language": "python",
   "name": "python3"
  },
  "language_info": {
   "codemirror_mode": {
    "name": "ipython",
    "version": 3
   },
   "file_extension": ".py",
   "mimetype": "text/x-python",
   "name": "python",
   "nbconvert_exporter": "python",
   "pygments_lexer": "ipython3",
   "version": "3.10.13"
  }
 },
 "nbformat": 4,
 "nbformat_minor": 2
}
